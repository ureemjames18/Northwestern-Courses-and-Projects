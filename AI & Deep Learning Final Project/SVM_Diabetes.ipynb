{
 "cells": [
  {
   "cell_type": "markdown",
   "metadata": {},
   "source": [
    "## This file covers code for Support Vector Machines"
   ]
  },
  {
   "cell_type": "markdown",
   "metadata": {},
   "source": [
    "Installing relevant libraries"
   ]
  },
  {
   "cell_type": "code",
   "execution_count": 1,
   "metadata": {},
   "outputs": [],
   "source": [
    "import pandas as pd\n",
    "import numpy as np\n",
    "import matplotlib.pyplot as plt\n",
    "from sklearn.preprocessing import StandardScaler, scale \n",
    "from sklearn.model_selection import GridSearchCV\n",
    "from sklearn.metrics import precision_score, recall_score, accuracy_score, f1_score, roc_auc_score\n"
   ]
  },
  {
   "cell_type": "code",
   "execution_count": 2,
   "metadata": {},
   "outputs": [],
   "source": [
    "filepath = r'/Users/ureemjames/Downloads/Output_NoOutliers.csv'\n",
    "data = pd.read_csv(filepath)"
   ]
  },
  {
   "cell_type": "code",
   "execution_count": 3,
   "metadata": {},
   "outputs": [],
   "source": [
    "columns_to_drop = data.columns.to_list()[0]"
   ]
  },
  {
   "cell_type": "code",
   "execution_count": 4,
   "metadata": {},
   "outputs": [],
   "source": [
    "data.drop(columns = [columns_to_drop], axis = 1, inplace = True)"
   ]
  },
  {
   "cell_type": "code",
   "execution_count": 6,
   "metadata": {},
   "outputs": [],
   "source": [
    "object_variables = ['RIAGENDR',\n",
    "'RIDRETH3',\n",
    "'DMDBORN4',\n",
    "'DMDEDUC2',\n",
    "'DMDMARTZ',\n",
    "'BPQ020',\n",
    "'BPQ080',\n",
    "'CDQ001',\n",
    "'CDQ010',\n",
    "'HSQ590',\n",
    "'FSD162',\n",
    "'HEQ010',\n",
    "'HEQ030',\n",
    "'IMQ011',\n",
    "'IMQ020',\n",
    "'KIQ022',\n",
    "'KIQ044',\n",
    "'DPQ020',\n",
    "'MCQ010',\n",
    "'MCQ080',\n",
    "'MCQ092',\n",
    "'PAQ620',\n",
    "'PAQ665',\n",
    "'RHQ131',\n",
    "'SLQ050',\n",
    "'SMQ020']"
   ]
  },
  {
   "cell_type": "code",
   "execution_count": 7,
   "metadata": {},
   "outputs": [],
   "source": [
    "encoded_data = pd.get_dummies(data, columns = object_variables, prefix= object_variables, drop_first= True)"
   ]
  },
  {
   "cell_type": "markdown",
   "metadata": {},
   "source": [
    "Now, that we have dropped the Sequence ID number, we have our final data set. Let's now partition the data into testing and training data."
   ]
  },
  {
   "cell_type": "code",
   "execution_count": 8,
   "metadata": {},
   "outputs": [],
   "source": [
    "target_variable = 'DIQ010'"
   ]
  },
  {
   "cell_type": "code",
   "execution_count": 9,
   "metadata": {},
   "outputs": [],
   "source": [
    "predictors_df = encoded_data.drop(columns = [target_variable], axis = 1)"
   ]
  },
  {
   "cell_type": "code",
   "execution_count": 10,
   "metadata": {},
   "outputs": [],
   "source": [
    "target_df = encoded_data[target_variable]"
   ]
  },
  {
   "cell_type": "code",
   "execution_count": 11,
   "metadata": {},
   "outputs": [],
   "source": [
    "from sklearn.model_selection import train_test_split\n",
    "\n",
    "random_number = 1000\n",
    "\n",
    "np.random.seed(random_number)\n",
    "\n",
    "X_train, X_test, Y_train, Y_test = train_test_split(predictors_df, target_df, train_size=0.8, test_size=0.2, random_state=random_number)"
   ]
  },
  {
   "cell_type": "code",
   "execution_count": 12,
   "metadata": {},
   "outputs": [
    {
     "data": {
      "text/plain": [
       "0    0.820272\n",
       "1    0.179728\n",
       "Name: DIQ010, dtype: float64"
      ]
     },
     "execution_count": 12,
     "metadata": {},
     "output_type": "execute_result"
    }
   ],
   "source": [
    "Y_train.value_counts()/len(Y_train)"
   ]
  },
  {
   "cell_type": "code",
   "execution_count": 13,
   "metadata": {},
   "outputs": [
    {
     "data": {
      "text/plain": [
       "0    0.828224\n",
       "1    0.171776\n",
       "Name: DIQ010, dtype: float64"
      ]
     },
     "execution_count": 13,
     "metadata": {},
     "output_type": "execute_result"
    }
   ],
   "source": [
    "Y_test.value_counts()/len(Y_test)"
   ]
  },
  {
   "cell_type": "code",
   "execution_count": 16,
   "metadata": {},
   "outputs": [],
   "source": [
    "scaler = StandardScaler()\n",
    "X_train_scaled = scaler.fit_transform(X_train)\n",
    "X_test_scaled = scaler.transform(X_test)"
   ]
  },
  {
   "cell_type": "code",
   "execution_count": 17,
   "metadata": {},
   "outputs": [],
   "source": [
    "from sklearn.svm import SVC"
   ]
  },
  {
   "cell_type": "code",
   "execution_count": 18,
   "metadata": {},
   "outputs": [
    {
     "data": {
      "text/plain": [
       "SVC()"
      ]
     },
     "execution_count": 18,
     "metadata": {},
     "output_type": "execute_result"
    }
   ],
   "source": [
    "model = SVC()\n",
    "model.fit(X_train_scaled, Y_train)"
   ]
  },
  {
   "cell_type": "code",
   "execution_count": 19,
   "metadata": {},
   "outputs": [
    {
     "data": {
      "text/plain": [
       "0.8979915433403806"
      ]
     },
     "execution_count": 19,
     "metadata": {},
     "output_type": "execute_result"
    }
   ],
   "source": [
    "model.score(X_test_scaled, Y_test)"
   ]
  },
  {
   "cell_type": "markdown",
   "metadata": {},
   "source": [
    "## Now Let's try and optimize this model."
   ]
  },
  {
   "cell_type": "code",
   "execution_count": 20,
   "metadata": {},
   "outputs": [],
   "source": [
    "param_grid = [\n",
    "\n",
    "{\n",
    "\n",
    "    'C': [0.5,1,10,100],\n",
    "    'gamma': ['scale',1,0.1,0.01,0.001,0.0001,0.000001],\n",
    "    'kernel' : ['rbf']\n",
    "}\n",
    "\n",
    "\n",
    "]"
   ]
  },
  {
   "cell_type": "code",
   "execution_count": 21,
   "metadata": {},
   "outputs": [
    {
     "name": "stdout",
     "output_type": "stream",
     "text": [
      "{'C': 100, 'gamma': 0.0001, 'kernel': 'rbf'}\n"
     ]
    }
   ],
   "source": [
    "original_params = GridSearchCV(model,param_grid, cv = 5, scoring = 'accuracy', verbose = 0)\n",
    "original_params.fit(X_train_scaled, Y_train)\n",
    "\n",
    "best_params = original_params.best_params_\n",
    "best_estimator = original_params.best_estimator_\n",
    "\n",
    "print(best_params)"
   ]
  },
  {
   "cell_type": "code",
   "execution_count": 26,
   "metadata": {},
   "outputs": [
    {
     "name": "stdout",
     "output_type": "stream",
     "text": [
      "Test Accuracy: 0.91; Precision: 0.8387096774193549: Recall: 0.56; Specificity: 0.9776643267389917 F1 Score: 0.6715867158671587.\n"
     ]
    }
   ],
   "source": [
    "from sklearn.metrics import confusion_matrix\n",
    "\n",
    "test_accuracy = best_estimator.score(X_test_scaled, Y_test)\n",
    "y_pred = best_estimator.predict(X_test_scaled)\n",
    "precision_test = precision_score(Y_test,y_pred)\n",
    "recall_test = recall_score(Y_test,y_pred)\n",
    "f1_score_test = f1_score(Y_test, y_pred)\n",
    "conf_matrix = confusion_matrix(Y_test, y_pred)\n",
    "specificity = conf_matrix[0,0]/( conf_matrix[0,0] +  conf_matrix[0,1])\n",
    "\n",
    "\n",
    "\n",
    "print(f\"Test Accuracy: {test_accuracy:.2f}; Precision: {precision_test}: Recall: {recall_test}; Specificity: {specificity} F1 Score: {f1_score_test}.\")"
   ]
  }
 ],
 "metadata": {
  "kernelspec": {
   "display_name": "base",
   "language": "python",
   "name": "python3"
  },
  "language_info": {
   "codemirror_mode": {
    "name": "ipython",
    "version": 3
   },
   "file_extension": ".py",
   "mimetype": "text/x-python",
   "name": "python",
   "nbconvert_exporter": "python",
   "pygments_lexer": "ipython3",
   "version": "3.7.4"
  },
  "orig_nbformat": 4
 },
 "nbformat": 4,
 "nbformat_minor": 2
}
