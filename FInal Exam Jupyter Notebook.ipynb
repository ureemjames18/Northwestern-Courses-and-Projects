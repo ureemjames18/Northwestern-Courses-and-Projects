{
 "cells": [
  {
   "cell_type": "markdown",
   "metadata": {},
   "source": [
    "# Final Exam Code File"
   ]
  },
  {
   "cell_type": "code",
   "execution_count": 1,
   "metadata": {},
   "outputs": [],
   "source": [
    "import math as mt\n",
    "import statistics as st\n",
    "import numpy as np\n",
    "from numpy import linalg, arange\n",
    "from fractions import Fraction\n",
    "from scipy.optimize import linprog\n",
    "import sympy as sym\n",
    "from scipy.stats import norm"
   ]
  },
  {
   "cell_type": "markdown",
   "metadata": {},
   "source": [
    "## Section on Correlation and Regression"
   ]
  },
  {
   "cell_type": "code",
   "execution_count": 2,
   "metadata": {},
   "outputs": [],
   "source": [
    "# Use this function to calculate correlation, covariance, and regression coefficients.\n",
    "def correlation_regression(x,y, calculation):\n",
    "    '''\n",
    "    Input x as a list\n",
    "    Input y as a list\n",
    "    \n",
    "    Returns correlation coefficient as a number\n",
    "    Returns Bo and B1 as a tuple\n",
    "    \n",
    "    \n",
    "    '''\n",
    "    \n",
    "    x = np.array(x)\n",
    "    y = np.array(y)\n",
    "    \n",
    "    x_2 = x**2\n",
    "    y_2 = y**2\n",
    "    xy = x*y\n",
    "    \n",
    "    \n",
    "    sum_of_x = sum(x)\n",
    "    sum_of_y = sum(y)\n",
    "    sum_of_x_2 = sum(x_2)\n",
    "    sum_of_y_2 = sum(y_2)\n",
    "    sum_of_xy = sum(xy)\n",
    "    \n",
    "    \n",
    "    \n",
    "    no_of_obs = len(x)\n",
    "    \n",
    "    SSxy = sum_of_xy - ((1/no_of_obs)*(sum_of_x*sum_of_y))\n",
    "    SSxx = sum_of_x_2 - ((1/no_of_obs)*sum_of_x**2)\n",
    "    SSyy = sum_of_y_2 - ((1/no_of_obs)*sum_of_y**2)\n",
    "    \n",
    "\n",
    "    mean_of_y = st.mean(y)\n",
    "    mean_of_x = sum(x)/len(x)\n",
    "    \n",
    "    correlation_coeff = SSxy/((SSxx*SSyy)**0.5)\n",
    "    \n",
    "    regression_coeff = (mean_of_y - mean_of_x*(SSxy/SSxx),SSxy/SSxx)\n",
    "    \n",
    "   \n",
    "    if calculation == \"Correlation\":\n",
    "        return round(correlation_coeff,4)\n",
    "    elif calculation == \"Regression\":\n",
    "        return regression_coeff\n",
    "\n",
    "\n",
    "\n",
    "    \n",
    "    \n",
    "    \n",
    "    \n",
    "\n",
    "\n"
   ]
  },
  {
   "cell_type": "markdown",
   "metadata": {},
   "source": [
    "## Section on Matrices"
   ]
  },
  {
   "cell_type": "code",
   "execution_count": 3,
   "metadata": {},
   "outputs": [
    {
     "name": "stdout",
     "output_type": "stream",
     "text": [
      "We have have created a matrix with 2 rows and 3 columns\n"
     ]
    },
    {
     "data": {
      "text/plain": [
       "matrix([[1, 2, 4],\n",
       "        [1, 2, 4]])"
      ]
     },
     "execution_count": 3,
     "metadata": {},
     "output_type": "execute_result"
    }
   ],
   "source": [
    "# Numpy reads them as rows first rather than columns.\n",
    "\n",
    "row_1 = [1,2,4]\n",
    "row_2 = [5,6,7]\n",
    "\n",
    "array_1 = np.array([row_1,row_1],)\n",
    "type(array_1)\n",
    "\n",
    "# converting array into a matrix\n",
    "matrix_1 = np.matrix(array_1)\n",
    "\n",
    "rows = np.shape(matrix_1)[0]\n",
    "columns = np.shape(matrix_1)[1]\n",
    "\n",
    "print('We have have created a matrix with {} rows and {} columns'.format(rows, columns))\n",
    "\n",
    "\n",
    "matrix_1"
   ]
  },
  {
   "cell_type": "code",
   "execution_count": 4,
   "metadata": {},
   "outputs": [
    {
     "data": {
      "text/plain": [
       "matrix([[ 1.,  2., -1.],\n",
       "        [-2., -3.,  4.],\n",
       "        [ 0.,  0.,  1.]])"
      ]
     },
     "execution_count": 4,
     "metadata": {},
     "output_type": "execute_result"
    }
   ],
   "source": [
    "input_matrix = np.matrix([[-3,-2,5],[2,1,-2],[0,0,1]])\n",
    "\n",
    "\n",
    "def find_det(matrix):\n",
    "    '''\n",
    "    This function finds the determinant of a square matrix\n",
    "    \n",
    "    '''\n",
    "    \n",
    "    determinant = linalg.det(matrix)\n",
    "    return determinant\n",
    "    \n",
    "\n",
    "def find_inv(matrix):\n",
    "    '''\n",
    "    This function finds the inverse of a square matrix\n",
    "    \n",
    "    '''\n",
    "    \n",
    "    inverse = linalg.inv(matrix)\n",
    "    return inverse\n",
    "\n",
    "find_det(input_matrix)\n",
    "find_inv(input_matrix)"
   ]
  },
  {
   "cell_type": "code",
   "execution_count": 20,
   "metadata": {},
   "outputs": [
    {
     "name": "stdout",
     "output_type": "stream",
     "text": [
      "The first variable is 1.0, second variable is 3.0, and the third variable is -0.0\n"
     ]
    }
   ],
   "source": [
    "# Enter equations & rhs as a list\n",
    "\n",
    "def solve_linear_systems(eq_1, eq_2,rhs, eq_3 = None):\n",
    "    \n",
    "    '''\n",
    "    \n",
    "    This function provides a UNIQUE solution for linear systems (highest 3) and takes the equations and right-hand\n",
    "    side as the inputs. The default setting for eq_3 is None. Change it if you want to solve for three\n",
    "    equations. \n",
    "    \n",
    "    '''\n",
    "    \n",
    "    assert isinstance(eq_1, list), \"Equation 1 is not a List\"\n",
    "    assert isinstance(eq_2, list), \"Equation 2 is not a List\"\n",
    "    assert isinstance(rhs, list), \"RHS is not a List\"\n",
    "    \n",
    "    \n",
    "    if eq_3 != None:\n",
    "        assert isinstance(eq_3, list), \"Equation 3 is not a List\"\n",
    "        combined_matrix = np.matrix([eq_1, eq_2, eq_3])\n",
    "    else:\n",
    "        combined_matrix = np.matrix([eq_1, eq_2])\n",
    "    rhs = np.transpose(rhs)\n",
    "    \n",
    "    try:\n",
    "        solution = linalg.solve(combined_matrix, rhs)\n",
    "    \n",
    "    except:\n",
    "        solution = linalg.lstsq(combined_matrix, rhs)\n",
    "        \n",
    "\n",
    "    if eq_3 != None:\n",
    "        return print('The first variable is {}, second variable is {}, and the third variable is {}'.format(solution[0],solution[1], solution[2]))\n",
    "    else:\n",
    "        return print('The first variable is {} and the second variable is {}'.format(solution[0],solution[1]))\n",
    "\n",
    "# solve_linear_systems([1,-2],[7,-3],[-2,19])\n",
    "# solve_linear_systems([3,4,-2],[5,-2,1],[8,4,1],eq_3 = [-1,1,1])\n",
    "# solve_linear_systems([1,3,2],[-1,2,-5],[-11,-34,-44],eq_3 = [4,2,-4])\n",
    "\n",
    "solve_linear_systems([1,1,0],[2,0,1],[4,2,6],eq_3 = [0,2,1])"
   ]
  },
  {
   "cell_type": "markdown",
   "metadata": {},
   "source": [
    "## Section on Linear Programming"
   ]
  },
  {
   "cell_type": "code",
   "execution_count": 26,
   "metadata": {},
   "outputs": [],
   "source": [
    "def opt_equ_simp(z, x, y, lb, obj, method = 'simplex'):\n",
    "    \n",
    "    \n",
    "    '''\n",
    "    Inputs are z, x, y and obj\n",
    "    Where z = coefficents of the objective function in a single list\n",
    "    Where x = coefficients of the left hand side of inequalities in a single nested list\n",
    "    Where y = coefficients of the right-hand side of the inequalities in a single list\n",
    "    Where lb = a list of lower limits for x variables\n",
    "    obj = max or min\n",
    "    This function does not allow >=, but allows <= \n",
    "    \n",
    "    \n",
    "    '''\n",
    "    \n",
    "    if obj == \"Max\":\n",
    "        z = [ -element for element in z]\n",
    "    elif obj not in [\"Max\",\"Min\"]:\n",
    "        print(\"Error, specifiy the obj as either Max or Min\")\n",
    "\n",
    "    x1_bounds = (lb[0],None)\n",
    "    x2_bounds = (lb[1],None)\n",
    "#     x3_bounds = (lb[2],None)\n",
    "    \n",
    "#     x4_bounds = (lb[3],None)\n",
    "#     rhs_eq = [15]\n",
    "#     lhs_eq = [[-1,5]]\n",
    "#     the last two correspond to fixed equations and not inequalities, you'll have to use A_eq and b_eq in the results\n",
    "#     function below.\n",
    "    \n",
    "    result = linprog(c=z, A_ub=x, b_ub=y,  bounds=(x1_bounds,x2_bounds), method = method)\n",
    "#     print(result)\n",
    "    return(print('Scipy Optimize Optimal value:', result.fun, '\\n x1, x2', result.x))"
   ]
  },
  {
   "cell_type": "code",
   "execution_count": 27,
   "metadata": {},
   "outputs": [
    {
     "name": "stdout",
     "output_type": "stream",
     "text": [
      "Scipy Optimize Optimal value: -3.455 \n",
      " x1, x2 [50.71428571 49.28571429]\n"
     ]
    }
   ],
   "source": [
    "z = [0.038,0.031] # objective function coefficients\n",
    "x = [[2.10,0.70],[1,0],[0,1],[1,1]] # coefficent of lhs of inequalities\n",
    "y = [141,53,86,100] # coefficient of rhs of inequalities\n",
    "lb = [0,0] # lower bound for all variables\n",
    "obj = \"Max\"\n",
    "\n",
    "opt_equ_simp(z,x,y,lb,obj)"
   ]
  },
  {
   "cell_type": "markdown",
   "metadata": {},
   "source": [
    "## Code for Derivatives"
   ]
  },
  {
   "cell_type": "code",
   "execution_count": 17,
   "metadata": {},
   "outputs": [
    {
     "data": {
      "text/latex": [
       "$\\displaystyle 1 - \\frac{x^{2} + 25}{2 x^{2}}$"
      ],
      "text/plain": [
       "1 - (x**2 + 25)/(2*x**2)"
      ]
     },
     "execution_count": 17,
     "metadata": {},
     "output_type": "execute_result"
    }
   ],
   "source": [
    "# Take derivatives using this code\n",
    "x = sym.Symbol('x')\n",
    "# sym.diff((503.9)*(1-0.89*sym.exp(-0.00189*x)))\n",
    "sym.diff(((x**2) + 25)/(2*x))"
   ]
  },
  {
   "cell_type": "markdown",
   "metadata": {},
   "source": [
    "## Code for Normal Distribution Calculations"
   ]
  },
  {
   "cell_type": "code",
   "execution_count": 4,
   "metadata": {},
   "outputs": [
    {
     "data": {
      "text/plain": [
       "0.975989712859842"
      ]
     },
     "execution_count": 4,
     "metadata": {},
     "output_type": "execute_result"
    }
   ],
   "source": [
    "# Loc specifies mean, whereas as scale specifies standard deviation\n",
    "\n",
    "# Code for CDF\n",
    "norm.cdf(88, loc = 61, scale = 9) - norm.cdf(61, loc = 61, scale = 9)\n",
    "norm.cdf(75, loc = 69.8, scale = 2.63)\n",
    "\n",
    "\n",
    "# Code for quantiles\n",
    "\n",
    "# norm.ppf()"
   ]
  },
  {
   "cell_type": "code",
   "execution_count": 3,
   "metadata": {},
   "outputs": [
    {
     "data": {
      "text/plain": [
       "(59.546904325094204, -0.12554466645956536)"
      ]
     },
     "execution_count": 3,
     "metadata": {},
     "output_type": "execute_result"
    }
   ],
   "source": [
    "y = [33.5,28.6,13.6,16.2,10.5,35.4,42]\n",
    "\n",
    "x = [158,250,339,350,391,190,210]\n",
    "\n",
    "\n",
    "\n",
    "correlation_regression(x,y,\"Correlation\")\n",
    "# Output: -0.9129\n",
    "correlation_regression(x,y,\"Regression\")\n",
    "# Output: B1 is -0.1251 & B0 59.591"
   ]
  },
  {
   "cell_type": "code",
   "execution_count": 1,
   "metadata": {},
   "outputs": [
    {
     "data": {
      "text/plain": [
       "{'PM': 25,\n",
       " 'DM': 28,\n",
       " 'LR': 30,\n",
       " 'RM': 32,\n",
       " 'RP': 33,\n",
       " 'LM': 36,\n",
       " 'RD': 37,\n",
       " 'LD': 38,\n",
       " 'LP': 41,\n",
       " 'PD': 43}"
      ]
     },
     "execution_count": 1,
     "metadata": {},
     "output_type": "execute_result"
    }
   ],
   "source": [
    "Vs_Edges = {\n",
    "    \n",
    "    \n",
    "    \"LR\":30,\n",
    "    \"LP\":41,\n",
    "    \"LD\":38,\n",
    "    \"LM\":36,\n",
    "    \"RP\":33,\n",
    "    \"RD\":37,\n",
    "    \"RM\":32,\n",
    "    \"PD\":43,\n",
    "    \"PM\":25,\n",
    "    \"DM\":28, \n",
    "}\n",
    "\n",
    "dict(sorted(Vs_Edges.items(), key=lambda item: item[1]))\n",
    "\n",
    "\n"
   ]
  },
  {
   "cell_type": "code",
   "execution_count": null,
   "metadata": {},
   "outputs": [],
   "source": []
  }
 ],
 "metadata": {
  "kernelspec": {
   "display_name": "Python 3.7.4 ('base')",
   "language": "python",
   "name": "python3"
  },
  "language_info": {
   "codemirror_mode": {
    "name": "ipython",
    "version": 3
   },
   "file_extension": ".py",
   "mimetype": "text/x-python",
   "name": "python",
   "nbconvert_exporter": "python",
   "pygments_lexer": "ipython3",
   "version": "3.7.4"
  },
  "vscode": {
   "interpreter": {
    "hash": "40d3a090f54c6569ab1632332b64b2c03c39dcf918b08424e98f38b5ae0af88f"
   }
  }
 },
 "nbformat": 4,
 "nbformat_minor": 2
}
